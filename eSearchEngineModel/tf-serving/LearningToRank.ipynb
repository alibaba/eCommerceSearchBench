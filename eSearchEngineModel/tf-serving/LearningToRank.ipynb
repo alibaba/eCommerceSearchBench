{
 "cells": [
  {
   "cell_type": "code",
   "execution_count": 1,
   "metadata": {},
   "outputs": [],
   "source": [
    "from tensorflow import keras\n",
    "import tensorflow as tf\n",
    "\n",
    "import numpy as np\n",
    "\n",
    "from tensorflow.keras.layers import Input, Embedding, LSTM, Dense, Reshape, Concatenate\n",
    "from tensorflow.keras.models import Model"
   ]
  },
  {
   "cell_type": "code",
   "execution_count": 2,
   "metadata": {},
   "outputs": [],
   "source": [
    "query_category_input = Input(shape=(1,), dtype='int32', name='query_category_input')\n",
    "user_sex_input = Input(shape=(1,), dtype='int32', name='user_sex_input')\n",
    "user_age_input = Input(shape=(1,), dtype='int32', name='user_age_input')\n",
    "user_power_input = Input(shape=(1,), dtype='int32', name='user_power_input')"
   ]
  },
  {
   "cell_type": "code",
   "execution_count": 3,
   "metadata": {},
   "outputs": [
    {
     "name": "stderr",
     "output_type": "stream",
     "text": [
      "WARNING: Logging before flag parsing goes to stderr.\n",
      "W0703 23:53:25.977761 140735647314816 deprecation.py:506] From /Users/tangfei/.local/share/virtualenvs/notebook-w05_uWGA/lib/python3.7/site-packages/tensorflow/python/keras/initializers.py:119: calling RandomUniform.__init__ (from tensorflow.python.ops.init_ops) with dtype is deprecated and will be removed in a future version.\n",
      "Instructions for updating:\n",
      "Call initializer instance with the dtype argument instead of passing it to the constructor\n"
     ]
    }
   ],
   "source": [
    "query_category_layer = Embedding(output_dim=16, input_dim=1000000, input_length=1)(query_category_input)\n",
    "user_sex_layer = Embedding(output_dim=2, input_dim=2, input_length=1)(user_sex_input)\n",
    "user_age_layer = Embedding(output_dim=8, input_dim=150, input_length=1)(user_age_input)\n",
    "user_power_layer = Embedding(output_dim=2, input_dim=7, input_length=1)(user_power_input)"
   ]
  },
  {
   "cell_type": "code",
   "execution_count": 4,
   "metadata": {},
   "outputs": [],
   "source": [
    "# query_category_layer = Reshape((16,))(query_category_layer)\n",
    "# user_sex_layer = Reshape((2,))(user_sex_layer)\n",
    "# user_age_layer = Reshape((8,))(user_age_layer)\n",
    "# user_power_layer = Reshape((2,))(user_power_layer)"
   ]
  },
  {
   "cell_type": "code",
   "execution_count": 5,
   "metadata": {},
   "outputs": [],
   "source": [
    "embedding_concat = keras.layers.concatenate([query_category_layer, user_sex_layer, user_age_layer, user_power_layer])"
   ]
  },
  {
   "cell_type": "code",
   "execution_count": 6,
   "metadata": {},
   "outputs": [
    {
     "name": "stderr",
     "output_type": "stream",
     "text": [
      "W0703 23:53:26.052407 140735647314816 deprecation.py:506] From /Users/tangfei/.local/share/virtualenvs/notebook-w05_uWGA/lib/python3.7/site-packages/tensorflow/python/ops/init_ops.py:1251: calling VarianceScaling.__init__ (from tensorflow.python.ops.init_ops) with dtype is deprecated and will be removed in a future version.\n",
      "Instructions for updating:\n",
      "Call initializer instance with the dtype argument instead of passing it to the constructor\n"
     ]
    }
   ],
   "source": [
    "x = LSTM(32)(embedding_concat)"
   ]
  },
  {
   "cell_type": "code",
   "execution_count": 7,
   "metadata": {},
   "outputs": [],
   "source": [
    "x = Dense(64, activation='relu', name='Relu_1')(x)\n",
    "x = Dense(3, activation='relu', name='Relu_2')(x)"
   ]
  },
  {
   "cell_type": "code",
   "execution_count": 8,
   "metadata": {},
   "outputs": [],
   "source": [
    "sub_model = Model(inputs=[query_category_input, user_sex_input, user_age_input, user_power_input], outputs=[x])"
   ]
  },
  {
   "cell_type": "code",
   "execution_count": 9,
   "metadata": {},
   "outputs": [
    {
     "data": {
      "text/plain": [
       "array([[0.        , 0.00297655, 0.        ]], dtype=float32)"
      ]
     },
     "execution_count": 9,
     "metadata": {},
     "output_type": "execute_result"
    }
   ],
   "source": [
    "sub_model.predict([[2345], [0], [28], [6]])"
   ]
  },
  {
   "cell_type": "code",
   "execution_count": 10,
   "metadata": {},
   "outputs": [],
   "source": [
    "feature_input = Input(shape=(3,), dtype='float', name='feature_input')"
   ]
  },
  {
   "cell_type": "code",
   "execution_count": 11,
   "metadata": {},
   "outputs": [],
   "source": [
    "# x = keras.layers.dot([feature_input, x], axes=1)\n",
    "x = keras.layers.dot([feature_input, sub_model.output], axes=1)"
   ]
  },
  {
   "cell_type": "code",
   "execution_count": 12,
   "metadata": {},
   "outputs": [],
   "source": [
    "x = Dense(1, activation='sigmoid', name='Sigmoid')(x)"
   ]
  },
  {
   "cell_type": "code",
   "execution_count": 13,
   "metadata": {},
   "outputs": [],
   "source": [
    "model = Model(inputs=[query_category_input, user_sex_input, user_age_input, user_power_input, feature_input], outputs=[x])"
   ]
  },
  {
   "cell_type": "code",
   "execution_count": 14,
   "metadata": {},
   "outputs": [],
   "source": [
    "query_category_data = np.random.randint(1000000, size=(1000, 1))\n",
    "user_sex_data = np.random.randint(2, size=(1000, 1))\n",
    "user_age_data = np.random.randint(150, size=(1000, 1))\n",
    "user_power_data = np.random.randint(7, size=(1000, 1))\n",
    "\n",
    "feature_data = np.random.random(size=(1000, 3))\n",
    "\n",
    "labels = np.random.random(size=(1000, 1))"
   ]
  },
  {
   "cell_type": "code",
   "execution_count": 15,
   "metadata": {},
   "outputs": [],
   "source": [
    "model.compile(optimizer='rmsprop', loss='mse')"
   ]
  },
  {
   "cell_type": "code",
   "execution_count": 16,
   "metadata": {},
   "outputs": [
    {
     "name": "stderr",
     "output_type": "stream",
     "text": [
      "W0703 23:53:26.749093 140735647314816 deprecation.py:323] From /Users/tangfei/.local/share/virtualenvs/notebook-w05_uWGA/lib/python3.7/site-packages/tensorflow/python/ops/math_grad.py:1250: add_dispatch_support.<locals>.wrapper (from tensorflow.python.ops.array_ops) is deprecated and will be removed in a future version.\n",
      "Instructions for updating:\n",
      "Use tf.where in 2.0, which has the same broadcast rule as np.where\n"
     ]
    },
    {
     "name": "stdout",
     "output_type": "stream",
     "text": [
      "Epoch 1/10\n",
      "1000/1000 [==============================] - 4s 4ms/sample - loss: 0.0840\n",
      "Epoch 2/10\n",
      "1000/1000 [==============================] - 3s 3ms/sample - loss: 0.0841\n",
      "Epoch 3/10\n",
      "1000/1000 [==============================] - 3s 3ms/sample - loss: 0.0837\n",
      "Epoch 4/10\n",
      "1000/1000 [==============================] - 3s 3ms/sample - loss: 0.0826\n",
      "Epoch 5/10\n",
      "1000/1000 [==============================] - 3s 3ms/sample - loss: 0.0794\n",
      "Epoch 6/10\n",
      "1000/1000 [==============================] - 3s 3ms/sample - loss: 0.0733\n",
      "Epoch 7/10\n",
      "1000/1000 [==============================] - 3s 3ms/sample - loss: 0.0645\n",
      "Epoch 8/10\n",
      "1000/1000 [==============================] - 3s 3ms/sample - loss: 0.0552\n",
      "Epoch 9/10\n",
      "1000/1000 [==============================] - 3s 3ms/sample - loss: 0.0477\n",
      "Epoch 10/10\n",
      "1000/1000 [==============================] - 3s 3ms/sample - loss: 0.0422\n"
     ]
    },
    {
     "data": {
      "text/plain": [
       "<tensorflow.python.keras.callbacks.History at 0x129d8ca90>"
      ]
     },
     "execution_count": 16,
     "metadata": {},
     "output_type": "execute_result"
    }
   ],
   "source": [
    "model.fit([query_category_data, user_sex_data, user_age_data, user_power_data, feature_data], [labels], epochs=10, batch_size=32)"
   ]
  },
  {
   "cell_type": "code",
   "execution_count": 17,
   "metadata": {},
   "outputs": [
    {
     "data": {
      "text/plain": [
       "array([[0.]], dtype=float32)"
      ]
     },
     "execution_count": 17,
     "metadata": {},
     "output_type": "execute_result"
    }
   ],
   "source": [
    "model.predict([[2345], [0], [28], [6], [[20.4, 23.4, 29.8]]])"
   ]
  },
  {
   "cell_type": "code",
   "execution_count": 18,
   "metadata": {},
   "outputs": [
    {
     "name": "stdout",
     "output_type": "stream",
     "text": [
      "Failed to import pydot. You must install pydot and graphviz for `pydotprint` to work.\n"
     ]
    }
   ],
   "source": [
    "keras.utils.plot_model(model, show_layer_names=False)"
   ]
  },
  {
   "cell_type": "code",
   "execution_count": 19,
   "metadata": {},
   "outputs": [
    {
     "data": {
      "text/plain": [
       "array([[0.33960158, 0.        , 0.24778432]], dtype=float32)"
      ]
     },
     "execution_count": 19,
     "metadata": {},
     "output_type": "execute_result"
    }
   ],
   "source": [
    "sub_model.predict([[2345], [0], [28], [5]])"
   ]
  },
  {
   "cell_type": "code",
   "execution_count": 20,
   "metadata": {},
   "outputs": [],
   "source": [
    "sub_model.save('ranking_weights_model.h5')"
   ]
  },
  {
   "cell_type": "code",
   "execution_count": 21,
   "metadata": {},
   "outputs": [
    {
     "data": {
      "text/plain": [
       "array([[0.51747835]], dtype=float32)"
      ]
     },
     "execution_count": 21,
     "metadata": {},
     "output_type": "execute_result"
    }
   ],
   "source": [
    "model.predict([[1234], [1], [14], [5], [[1, 1, 1]]])"
   ]
  },
  {
   "cell_type": "code",
   "execution_count": 22,
   "metadata": {},
   "outputs": [
    {
     "name": "stderr",
     "output_type": "stream",
     "text": [
      "W0703 23:53:55.555059 140735647314816 deprecation.py:506] From /Users/tangfei/.local/share/virtualenvs/notebook-w05_uWGA/lib/python3.7/site-packages/tensorflow/python/ops/init_ops.py:97: calling GlorotUniform.__init__ (from tensorflow.python.ops.init_ops) with dtype is deprecated and will be removed in a future version.\n",
      "Instructions for updating:\n",
      "Call initializer instance with the dtype argument instead of passing it to the constructor\n",
      "W0703 23:53:55.556041 140735647314816 deprecation.py:506] From /Users/tangfei/.local/share/virtualenvs/notebook-w05_uWGA/lib/python3.7/site-packages/tensorflow/python/ops/init_ops.py:97: calling Orthogonal.__init__ (from tensorflow.python.ops.init_ops) with dtype is deprecated and will be removed in a future version.\n",
      "Instructions for updating:\n",
      "Call initializer instance with the dtype argument instead of passing it to the constructor\n",
      "W0703 23:53:55.557030 140735647314816 deprecation.py:506] From /Users/tangfei/.local/share/virtualenvs/notebook-w05_uWGA/lib/python3.7/site-packages/tensorflow/python/ops/init_ops.py:97: calling Zeros.__init__ (from tensorflow.python.ops.init_ops) with dtype is deprecated and will be removed in a future version.\n",
      "Instructions for updating:\n",
      "Call initializer instance with the dtype argument instead of passing it to the constructor\n",
      "W0703 23:53:56.152913 140735647314816 hdf5_format.py:221] No training configuration found in save file: the model was *not* compiled. Compile it manually.\n"
     ]
    }
   ],
   "source": [
    "restore_model = keras.models.load_model('ranking_weights_model.h5')"
   ]
  },
  {
   "cell_type": "code",
   "execution_count": 23,
   "metadata": {},
   "outputs": [],
   "source": [
    "weights = restore_model.predict([[2345], [0], [28], [5]])"
   ]
  },
  {
   "cell_type": "code",
   "execution_count": 24,
   "metadata": {},
   "outputs": [
    {
     "data": {
      "text/plain": [
       "[[0.3396015763282776, 0.0, 0.2477843165397644]]"
      ]
     },
     "execution_count": 24,
     "metadata": {},
     "output_type": "execute_result"
    }
   ],
   "source": [
    "weights.tolist()"
   ]
  },
  {
   "cell_type": "code",
   "execution_count": 25,
   "metadata": {},
   "outputs": [
    {
     "data": {
      "text/plain": [
       "tensorflow.python.keras.engine.training.Model"
      ]
     },
     "execution_count": 25,
     "metadata": {},
     "output_type": "execute_result"
    }
   ],
   "source": [
    "type(restore_model)"
   ]
  },
  {
   "cell_type": "code",
   "execution_count": 26,
   "metadata": {},
   "outputs": [
    {
     "name": "stderr",
     "output_type": "stream",
     "text": [
      "W0703 23:53:56.311916 140735647314816 deprecation.py:323] From <ipython-input-26-044489ccd386>:6: simple_save (from tensorflow.python.saved_model.simple_save) is deprecated and will be removed in a future version.\n",
      "Instructions for updating:\n",
      "This function will only be available through the v1 compatibility library as tf.compat.v1.saved_model.simple_save.\n",
      "W0703 23:53:56.313003 140735647314816 deprecation.py:323] From /Users/tangfei/.local/share/virtualenvs/notebook-w05_uWGA/lib/python3.7/site-packages/tensorflow/python/saved_model/signature_def_utils_impl.py:201: build_tensor_info (from tensorflow.python.saved_model.utils_impl) is deprecated and will be removed in a future version.\n",
      "Instructions for updating:\n",
      "This function will only be available through the v1 compatibility library as tf.compat.v1.saved_model.utils.build_tensor_info or tf.compat.v1.saved_model.build_tensor_info.\n"
     ]
    }
   ],
   "source": [
    "with tf.keras.backend.get_session() as sess:\n",
    "    tf.saved_model.simple_save(\n",
    "        sess,\n",
    "        'ranking_weights_model/1',\n",
    "        inputs={t.name: t for t in restore_model.input},\n",
    "        outputs={t.name: t for t in restore_model.outputs})"
   ]
  }
 ],
 "metadata": {
  "kernelspec": {
   "display_name": "Python 3",
   "language": "python",
   "name": "python3"
  },
  "language_info": {
   "codemirror_mode": {
    "name": "ipython",
    "version": 3
   },
   "file_extension": ".py",
   "mimetype": "text/x-python",
   "name": "python",
   "nbconvert_exporter": "python",
   "pygments_lexer": "ipython3",
   "version": "3.7.3"
  }
 },
 "nbformat": 4,
 "nbformat_minor": 2
}
